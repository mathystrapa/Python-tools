{
 "cells": [
  {
   "cell_type": "code",
   "execution_count": null,
   "metadata": {},
   "outputs": [
    {
     "ename": "",
     "evalue": "",
     "output_type": "error",
     "traceback": [
      "\u001b[1;31mFailed to start the Kernel. \n",
      "\u001b[1;31mUnable to start Kernel 'Python 3.11.4' due to a timeout waiting for the ports to get used. \n",
      "\u001b[1;31mView Jupyter <a href='command:jupyter.viewOutput'>log</a> for further details."
     ]
    }
   ],
   "source": [
    "# OBJETIVO: VOCÊ TRABALHA EM UMA EMPRESA QUE TEM UMA GRANDE BAE DE DADOS DOS CLIENTES. VOCÊ DEVE ENCONTRAR O MOTIVO DOS CANCELAMENTOS DE CONTRATOS RECENTES E PROPOR UMA SOLUÇÃO. TAMBÉM DEVE MOSTRAR AS ANÁLISES EM FORMA DE GRÁFICOS.\n",
    "\n",
    "# 1) IMPORTAR A BASE DE DADOS\n",
    "\n",
    "import pandas as pd\n",
    "\n",
    "dados = pd.read_csv('\"C:\\Users\\mathy\\OneDrive\\Área de Trabalho\\PROGRAMAÇÃO\\Jornada Python\\Python-tools\\Análise de Dados\\Arquivos auxiliares\\cancelamentos.csv\"')   # importa a base de dados e armazena na variável 'dados'\n",
    "\n",
    "# 2) VISUALIZAR A BASE DE DADOS\n",
    "\n",
    "display(dados)\n",
    "\n",
    "# 3) TRATAR A BASE DE DADOS\n",
    "\n",
    "# 4) ANALIZAR COMO ESTÃO OS CANCELAMENTOS\n",
    "\n",
    "# 5) ANALIZAR COM PROFUNDIDADE E ENCONTRAR O MOTIVO DO PROBLEMA E PROPOR UMA SOLUÇÃO"
   ]
  }
 ],
 "metadata": {
  "kernelspec": {
   "display_name": "Python 3",
   "language": "python",
   "name": "python3"
  },
  "language_info": {
   "name": "python",
   "version": "3.11.4"
  },
  "orig_nbformat": 4
 },
 "nbformat": 4,
 "nbformat_minor": 2
}
